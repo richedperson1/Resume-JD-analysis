{
 "cells": [
  {
   "cell_type": "code",
   "execution_count": 27,
   "metadata": {},
   "outputs": [],
   "source": [
    "from src.chain_function import ResumeJDAnalyzer\n",
    "\n",
    "resume_obj = ResumeJDAnalyzer()"
   ]
  },
  {
   "cell_type": "code",
   "execution_count": 19,
   "metadata": {},
   "outputs": [],
   "source": [
    "job_description = \"\"\"• Bachelor’s or Master’s in Computer Science, Computational Linguistics, Artificial\n",
    "Intelligence, or related field.\n",
    "• Minimum of 2 years of experience in designing and implementing NLP solutions in a\n",
    "production environment.\n",
    "• Experience in Python NLP libraries (NLTK, SpaCy, Hugging Face Transformers,\n",
    "Snorkal, Gensim) and frameworks (TensorFlow, PyTorch).\n",
    "• Demonstrated skill in developing high-performance algorithms for NLP tasks, such as\n",
    "text classification, language modelling LLMs, or named entity recognition, using Python.\n",
    "• Knowledge of state-of-the-art NLP models like BERT, GPT, T5 etc.\n",
    "• Strong analytical and problem-solving skills.\n",
    "• Experience in deploying Python-based NLP solutions in cloud environments (AWS\n",
    ",GCP, Azure).\n",
    "• Familiarity with Python web frameworks (e.g., Flask, Django) for deploying NLP\n",
    "applications as RESTful APIs.\n",
    "• Background in deploying NLP models in a microservices architecture.\n",
    "• Familiarity with containerization and orchestration technologies (e.g., Docker,\n",
    "Kubernetes).\n",
    "• Experience with CI/CD pipelines and test-driven development\"\"\"\n",
    "\n",
    "resume_content = \"\"\"## Rutvik S Jaiswal\\n\\n## Software Engineer\\n\\n## Summary\\n\\n<!-- image -->\\n\\nSoftware  Engineer  with  expertise  in  developing  Generative  AI  projects,  crafting  machine  learning  models,  and constructing APIs using Flask and Django. A proven track record in designing and implementing end-to-end data pipelines, bolstered by a strong foundation in Python programming.\\n\\n## Experience\\n\\n## Valuelabs [Senior Software Engineer]\\n\\nSept 2024 - Present\\n\\nProject :Multi-Agent System Development [Client: Howden-Re ]\\n\\n## Responsibilities:\\n\\n- Designed and implemented a multi-modal Retrieval-Augmented Generation (RAG) system using GPT-4o.\\n- Extracted data from unstructured PDFs using tools like IBM Docling for tables/text and custom image analysis pipelines for graphs and distributions.\\n- Deployed scalable Python-based FastAPI functions on Azure Functions with Redis for chat data caching, ensuring high-performance query handling.\\n- Engineered a multi-agent architecture leveraging LangGraph for parallel processing, including agents for query transformation, chat history analysis, NLP-to-SQL conversion, and RAG context generation.\\n- Built robust data retrieval pipelines featuring embedding filtering, LLM ranking, and compression to optimize response quality.\\n- Integrated Bing-powered internet search and orchestrated data fusion from multiple agents to provide prioritized, coherent outputs.\\n\\n## Harman Connected Service [Client: PepsiCo]\\n\\nMay 2022 - Sept 2024\\n\\nProject :   G en-AI Knowledge Base Search Engine (RAG Model)\\n\\nAs part of GenAI Project, we have created the knowledge base search engine which enhance user experience, the system expeditiously and precisely addresses company policy inquiries and generating content using Azure cognitive search and OpenAI .\\n\\n## Responsibilities:\\n\\n- Designed and built end-to-end search pipeline with Python and Flask API. Implemented user-specific container creation in Azure Blob Storage via Flask API and MySQL Database.\\n- Implemented RBAC (Role-Based Access Control) for user and group levels using MySQL and integrated it with Flask ORM for secure access management.\\n- Adhered to SOLID principles to create scalable and maintainable solutions, ensuring robust and efficient system architecture.\\n- Utilized Azure Cognitive Search and OpenAI APIs ( LLM ) to process large-scale enterprise data, extract relevant citations (content & URL), and generate insightful search results.\\n- Established Cognitive Search pipeline, including data source creation, indexing, and indexer configuration.\\n- Developed real-time streaming response from Azure OpenAI for both internal and external data sources.\\n- Implemented guardrails to prevent harmful content and thwart jailbreak attacks, maintaining ethical standards and user safety.\\n- Leveraged Hugging Face open-source models for interfacing and fine-tuning. Applied techniques such as LoRA and QLoRA for model fine-tuning, and employed model quantization for enhanced speed and performance.\\n- Deployed advanced semantic chunking strategies using LangChain , ensuring precise data segmentation and better performance within production environments.\\n- Conducted thorough evaluations of RAG pipelines using tools such as Giskard and ragas, ensuring robustness and accuracy.\\n- Utilized open-source tools like LLaMA 3 by Patrolnus AI to detect and mitigate hallucinations in models, ensuring reliability and trustworthiness.\\n- Used Redis for semantic caching , significantly improving pipeline performance and enhancing the productiongrade environment\\n- Explored the use of LangGraph for developing RAG agentic workflows, pushing the boundaries of current generative AI applications.\\n- Utilized Azure Cognitive Search and OpenAI APIs (LLM) to process large-scale enterprise data, extract relevant citations (content & URL), and generate insightful search results.\\n- Established Cognitive Search pipeline, including data source creation, indexing, and indexer configuration.\\n\\n## Education :\\n\\n## AISSMS Institute of information technology ,Pune\\n\\nBE In Electrical Engineering ( CGPA 8.85 )\\n\\n## Open Source Contribution\\n\\nGithub Link : https://github.com/sunnyar/indian\\\\_festivals\\n\\nPyPi : https://pypi.org/project/indian-festivals\\n\\nContributed to the India Festival Python library, a community-driven project that provides information about Indian festivals. Improved the library by modifying the API call and adding exception handling in urllib2, resulting in more robust and reliable data retrieval. Played a key role in ensuring the accuracy of festival information for users of the library.\\n\\n| Technical skill  :                                       | Internship:                                      |\\n|----------------------------------------------------------|--------------------------------------------------|\\n| 1. Python :  5 Star in HackerRank                        | i Primed                                         |\\n| Library  : Numpy ,pandas ,Scikit-learn,Seaborn ,OS ,Glob | AI/ML Engineer March/2022 -May/ 2022             |\\n| API  :  Django,Flask Framework :  LangChain,LangGraph    | - 1. Training based on Machine learning and Data |\\n|                                                          | science                                          |\\n| Vector DB  : weaviate, chromadb,azure                    | - Python Core                                    |\\n| Cognitive search                                         | - Build Review Scrapper Project                  |\\n| Tools: Redis, MSSQL, Bing Search API                     | - Build Music recommendation system from scatch  |\\n| 2. Cloud : Azure                                         |                                                  |\\n| 3. Git and GitHub                                        |                                                  |\\n| 4. React JS                                              |                                                  |\"\"\"\n"
   ]
  },
  {
   "cell_type": "code",
   "execution_count": 28,
   "metadata": {},
   "outputs": [],
   "source": [
    "results_list = resume_obj.analyze(resume=resume_content,jd= job_description)"
   ]
  },
  {
   "cell_type": "code",
   "execution_count": 31,
   "metadata": {},
   "outputs": [
    {
     "data": {
      "text/plain": [
       "ResumeMatchScores(skill_match=0.9, experience_match=0.85, education_match=0.7, other_match=0.8, resume_missing_requirements='• Familiarity with containerization and orchestration technologies (e.g., Docker, Kubernetes).\\n• Experience with CI/CD pipelines and test-driven development.', key_matches='• Experience in Python NLP libraries (Hugging Face Transformers) and frameworks (Flask, Django).\\n• Demonstrated skill in developing high-performance algorithms for NLP tasks, such as text classification, using Python.\\n• Knowledge of state-of-the-art NLP models like GPT.\\n• Strong analytical and problem-solving skills.\\n• Experience in deploying Python-based NLP solutions in cloud environments (Azure).\\n• Familiarity with Python web frameworks (Flask, Django) for deploying NLP applications as RESTful APIs.\\n• Background in deploying NLP models in a microservices architecture.', outside_task='1. Develop a small-scale NLP project using Docker and Kubernetes for containerization and orchestration.\\n2. Implement a CI/CD pipeline for an existing Python-based NLP project, including test-driven development practices.\\n3. Create a RESTful API using Flask or Django to deploy an NLP model and demonstrate its functionality in a cloud environment (e.g., Azure).')"
      ]
     },
     "execution_count": 31,
     "metadata": {},
     "output_type": "execute_result"
    }
   ],
   "source": [
    "results_list"
   ]
  },
  {
   "cell_type": "code",
   "execution_count": 32,
   "metadata": {},
   "outputs": [
    {
     "data": {
      "text/plain": [
       "{'skill_match': 0.9,\n",
       " 'experience_match': 0.85,\n",
       " 'education_match': 0.7,\n",
       " 'other_match': 0.8,\n",
       " 'resume_missing_requirements': '• Familiarity with containerization and orchestration technologies (e.g., Docker, Kubernetes).\\n• Experience with CI/CD pipelines and test-driven development.',\n",
       " 'key_matches': '• Experience in Python NLP libraries (Hugging Face Transformers) and frameworks (Flask, Django).\\n• Demonstrated skill in developing high-performance algorithms for NLP tasks, such as text classification, using Python.\\n• Knowledge of state-of-the-art NLP models like GPT.\\n• Strong analytical and problem-solving skills.\\n• Experience in deploying Python-based NLP solutions in cloud environments (Azure).\\n• Familiarity with Python web frameworks (Flask, Django) for deploying NLP applications as RESTful APIs.\\n• Background in deploying NLP models in a microservices architecture.',\n",
       " 'outside_task': '1. Develop a small-scale NLP project using Docker and Kubernetes for containerization and orchestration.\\n2. Implement a CI/CD pipeline for an existing Python-based NLP project, including test-driven development practices.\\n3. Create a RESTful API using Flask or Django to deploy an NLP model and demonstrate its functionality in a cloud environment (e.g., Azure).'}"
      ]
     },
     "execution_count": 32,
     "metadata": {},
     "output_type": "execute_result"
    }
   ],
   "source": [
    "(results_list.__dict__)"
   ]
  }
 ],
 "metadata": {
  "kernelspec": {
   "display_name": "Python 3",
   "language": "python",
   "name": "python3"
  },
  "language_info": {
   "codemirror_mode": {
    "name": "ipython",
    "version": 3
   },
   "file_extension": ".py",
   "mimetype": "text/x-python",
   "name": "python",
   "nbconvert_exporter": "python",
   "pygments_lexer": "ipython3",
   "version": "3.12.0"
  }
 },
 "nbformat": 4,
 "nbformat_minor": 2
}
